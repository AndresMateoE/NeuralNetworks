{
  "nbformat": 4,
  "nbformat_minor": 0,
  "metadata": {
    "colab": {
      "provenance": []
    },
    "kernelspec": {
      "name": "python3",
      "display_name": "Python 3"
    },
    "language_info": {
      "name": "python"
    }
  },
  "cells": [
    {
      "cell_type": "code",
      "execution_count": null,
      "metadata": {
        "id": "5lBnZfWjBOOC"
      },
      "outputs": [],
      "source": [
        "# como siempre antes que nada importamos todo\n",
        "import torch\n",
        "import torch.nn as nn\n",
        "import torchvision\n",
        "from torchvision import transforms\n",
        "\n",
        "import numpy as np\n",
        "import matplotlib.pyplot as plt"
      ]
    },
    {
      "cell_type": "code",
      "source": [
        "from google.colab import drive\n",
        "drive.mount('/content/drive')"
      ],
      "metadata": {
        "id": "X_WOjWEdgPv1",
        "colab": {
          "base_uri": "https://localhost:8080/"
        },
        "outputId": "19e9b7ef-a888-4ba1-fbf5-3fb8bfb115bd"
      },
      "execution_count": null,
      "outputs": [
        {
          "output_type": "stream",
          "name": "stdout",
          "text": [
            "Drive already mounted at /content/drive; to attempt to forcibly remount, call drive.mount(\"/content/drive\", force_remount=True).\n"
          ]
        }
      ]
    },
    {
      "cell_type": "code",
      "source": [],
      "metadata": {
        "id": "FhBf2J-rBw2s"
      },
      "execution_count": null,
      "outputs": []
    },
    {
      "cell_type": "markdown",
      "source": [
        "Vuelvo a arrancar, ahora directo con Fashion MNIST para el trabajo 3, probablemente el trabajo 4 tambien sea un autoencoder para seguir con lo mismo, de esa forma hay tiempo para este trabajo."
      ],
      "metadata": {
        "id": "GGmQ0QEQBRaO"
      }
    },
    {
      "cell_type": "code",
      "source": [
        "transform = transforms.ToTensor()\n",
        "# introducimos los datasets\n",
        "train_dataset = torchvision.datasets.FashionMNIST(root = \"./data\" , train = True , download = True ,  transform = transform)\n",
        "test_dataset = torchvision.datasets.FashionMNIST(root = \"./data\" , train = False , download = True ,  transform = transform)"
      ],
      "metadata": {
        "id": "D2xjM65RBel1"
      },
      "execution_count": null,
      "outputs": []
    },
    {
      "cell_type": "code",
      "source": [
        "#declaramos el dataloader y elegimos el batch\n",
        "batch = 32\n",
        "dataloader = torch.utils.data.DataLoader(train_dataset , batch_size = batch)\n",
        "test_dataloader = torch.utils.data.DataLoader(test_dataset , batch_size = batch)"
      ],
      "metadata": {
        "id": "a-8ZFxczBt5m"
      },
      "execution_count": null,
      "outputs": []
    },
    {
      "cell_type": "code",
      "source": [
        "#Ahora podemos definir nuestra red neuronal\n",
        "capa_interna = 2\n",
        "\n",
        "class Encoder(nn.Module):\n",
        "  def __init__(self):\n",
        "    super().__init__()\n",
        "    self.fc1 = nn.Sequential(\n",
        "        nn.Dropout(0.1),\n",
        "        nn.Linear(28*28, 512),\n",
        "        nn.Dropout(0.1),\n",
        "        nn.Linear(512, 256),\n",
        "        nn.Dropout(0.1),\n",
        "        nn.Linear(256, 128),\n",
        "        nn.Dropout(0.1),\n",
        "        nn.Linear(128, 64),\n",
        "        nn.Dropout(0.1),\n",
        "        nn.Linear(64, 32),\n",
        "        nn.Dropout(0.1),\n",
        "        nn.Linear(32, 16),\n",
        "        nn.Dropout(0.1),\n",
        "        nn.Linear(16, 8),\n",
        "        nn.Dropout(0.1),\n",
        "        nn.Linear(8, 4),\n",
        "        nn.Dropout(0.1),\n",
        "        nn.Linear(4, capa_interna),\n",
        "        )\n",
        "    self.fc2 = nn.ReLU()\n",
        "    self.DO = nn.Dropout(0.1)\n",
        "\n",
        "  def forward(self, x):\n",
        "\n",
        "    x = self.fc1(x)\n",
        "    x = self.fc2(x)\n",
        "    return x\n",
        "\n",
        "\n",
        "class Decoder(nn.Module):\n",
        "  def __init__(self):\n",
        "    super().__init__()\n",
        "    self.fc1 = nn.Sequential(\n",
        "        nn.Dropout(0.1),\n",
        "        nn.Linear(capa_interna, 4),\n",
        "        nn.Dropout(0.1),\n",
        "        nn.Linear(4, 8),\n",
        "        nn.Dropout(0.1),\n",
        "        nn.Linear(8, 16),\n",
        "        nn.Dropout(0.1),\n",
        "        nn.Linear(16, 32),\n",
        "        nn.Dropout(0.1),\n",
        "        nn.Linear(32, 64),\n",
        "        nn.Dropout(0.1),\n",
        "        nn.Linear(64, 128),\n",
        "        nn.Dropout(0.1),\n",
        "        nn.Linear(128, 256),\n",
        "        nn.Dropout(0.1),\n",
        "        nn.Linear(256, 512),\n",
        "        nn.Dropout(0.1),\n",
        "        nn.Linear(512, 28*28)\n",
        "        )\n",
        "    self.fc2 = nn.Sigmoid()\n",
        "\n",
        "  def forward(self, x):\n",
        "    x = self.fc1(x)\n",
        "    x = self.fc2(x)\n",
        "    return x\n"
      ],
      "metadata": {
        "id": "febspXkhCWoH"
      },
      "execution_count": null,
      "outputs": []
    },
    {
      "cell_type": "code",
      "source": [
        "#elegimos dispositivo, no me queda claro si esto es necesario o no\n",
        "device = torch.device(\"cuda\" if torch.cuda.is_available() else \"cpu\")\n",
        "device"
      ],
      "metadata": {
        "colab": {
          "base_uri": "https://localhost:8080/"
        },
        "id": "4l__2HDyEyxC",
        "outputId": "93092d52-2ba9-49f1-bbb3-9871708386c0"
      },
      "execution_count": null,
      "outputs": [
        {
          "output_type": "execute_result",
          "data": {
            "text/plain": [
              "device(type='cpu')"
            ]
          },
          "metadata": {},
          "execution_count": 28
        }
      ]
    },
    {
      "cell_type": "code",
      "source": [
        "# y mandamos los moodelos al dispositivo\n",
        "Enc = Encoder().to(device)\n",
        "Dec = Decoder().to(device)\n"
      ],
      "metadata": {
        "id": "YOyoeGd7E5i6"
      },
      "execution_count": null,
      "outputs": []
    },
    {
      "cell_type": "code",
      "source": [
        "# elegimos funcion de error y optimizador\n",
        "loss_fn = nn.MSELoss()\n",
        "optimizer_Enc = torch.optim.Adam(Enc.parameters(), lr = 0.001)\n",
        "optimizer_Dec = torch.optim.Adam(Dec.parameters(), lr = 0.001)"
      ],
      "metadata": {
        "id": "OQ9z5YjhFFyk"
      },
      "execution_count": null,
      "outputs": []
    },
    {
      "cell_type": "code",
      "source": [
        "train_loss = []\n",
        "test_loss = []"
      ],
      "metadata": {
        "id": "H5NOYHizFwI8"
      },
      "execution_count": null,
      "outputs": []
    },
    {
      "cell_type": "code",
      "source": [
        "numero_epocas = 50"
      ],
      "metadata": {
        "id": "Et2vhSTqF4wr"
      },
      "execution_count": null,
      "outputs": []
    },
    {
      "cell_type": "code",
      "source": [
        "num_batches_test = 10000/batch\n",
        "num_batches_train = 60000/batch\n",
        "\n",
        "i = 1\n",
        "for epoch in range(numero_epocas):\n",
        "  print(f'Epoch:{i}')\n",
        "  i = i+1\n",
        "  train_epoch_loss = 0\n",
        "  for (imgs , _) in dataloader:\n",
        "    imgs = imgs.to(device)\n",
        "    #100 , 1 , 28 , 28 ---> (100 , 28*28)\n",
        "    imgs = imgs.flatten(1)\n",
        "    latents = Enc(imgs)\n",
        "    output = Dec(latents)\n",
        "\n",
        "    loss = loss_fn(output , imgs)\n",
        "    train_epoch_loss += loss.cpu().detach().numpy()\n",
        "\n",
        "    optimizer_Enc.zero_grad()\n",
        "    optimizer_Dec.zero_grad()\n",
        "\n",
        "    loss.backward()\n",
        "\n",
        "    optimizer_Enc.step()\n",
        "    optimizer_Dec.step()\n",
        "\n",
        "  train_loss.append(train_epoch_loss/num_batches_train)\n",
        "\n",
        "  test_epoch_loss = 0\n",
        "  for (imgs , _) in test_dataloader:\n",
        "    imgs = imgs.to(device)\n",
        "    #100 , 1 , 28 , 28 ---> (100 , 28*28)\n",
        "    imgs = imgs.flatten(1)\n",
        "\n",
        "    t_loss = loss_fn(Dec(Enc(imgs)),imgs)\n",
        "\n",
        "    test_epoch_loss += t_loss.cpu().detach().numpy()\n",
        "  test_loss.append(test_epoch_loss/num_batches_test)"
      ],
      "metadata": {
        "colab": {
          "base_uri": "https://localhost:8080/"
        },
        "id": "ExDT5zIFGGYw",
        "outputId": "0befcb7f-1385-4447-cafd-49743928619c"
      },
      "execution_count": null,
      "outputs": [
        {
          "output_type": "stream",
          "name": "stdout",
          "text": [
            "Epoch:1\n",
            "Epoch:2\n",
            "Epoch:3\n",
            "Epoch:4\n",
            "Epoch:5\n",
            "Epoch:6\n",
            "Epoch:7\n",
            "Epoch:8\n",
            "Epoch:9\n",
            "Epoch:10\n",
            "Epoch:11\n",
            "Epoch:12\n",
            "Epoch:13\n",
            "Epoch:14\n",
            "Epoch:15\n",
            "Epoch:16\n",
            "Epoch:17\n",
            "Epoch:18\n",
            "Epoch:19\n",
            "Epoch:20\n",
            "Epoch:21\n",
            "Epoch:22\n",
            "Epoch:23\n",
            "Epoch:24\n",
            "Epoch:25\n",
            "Epoch:26\n",
            "Epoch:27\n",
            "Epoch:28\n",
            "Epoch:29\n",
            "Epoch:30\n",
            "Epoch:31\n",
            "Epoch:32\n",
            "Epoch:33\n",
            "Epoch:34\n",
            "Epoch:35\n",
            "Epoch:36\n",
            "Epoch:37\n",
            "Epoch:38\n",
            "Epoch:39\n",
            "Epoch:40\n",
            "Epoch:41\n",
            "Epoch:42\n",
            "Epoch:43\n",
            "Epoch:44\n",
            "Epoch:45\n",
            "Epoch:46\n",
            "Epoch:47\n",
            "Epoch:48\n",
            "Epoch:49\n",
            "Epoch:50\n"
          ]
        }
      ]
    },
    {
      "cell_type": "code",
      "source": [
        "# Guardemos el modelo asi no tenemos que volver a correrlo\n",
        "torch.save(Encoder, f\"Encoder_{capa_interna}.pth\")\n",
        "torch.save(Decoder, f\"Decoder_{capa_interna}.pth\")"
      ],
      "metadata": {
        "id": "nVGC197kkQDS"
      },
      "execution_count": null,
      "outputs": []
    },
    {
      "cell_type": "code",
      "source": [
        "#model = CNN().to(device)\n",
        "#model.load_state_dict(torch.load(\"model.pth\"))"
      ],
      "metadata": {
        "id": "eOBrALxOyEm2"
      },
      "execution_count": null,
      "outputs": []
    },
    {
      "cell_type": "code",
      "source": [
        "x = np.arange(1,numero_epocas+1)\n",
        "plt.plot(x,train_loss)\n",
        "plt.title(\"Train Loss\")\n",
        "plt.ylabel(\"Loss\")\n",
        "plt.xlabel(\"Epoca\")"
      ],
      "metadata": {
        "id": "bSkkl8ohGRtt",
        "colab": {
          "base_uri": "https://localhost:8080/"
        },
        "outputId": "bcbcb366-b26e-4e07-9f6d-ce251a55aade"
      },
      "execution_count": null,
      "outputs": [
        {
          "output_type": "execute_result",
          "data": {
            "text/plain": [
              "Text(0.5, 0, 'Epoca')"
            ]
          },
          "metadata": {},
          "execution_count": 36
        },
        {
          "output_type": "display_data",
          "data": {
            "text/plain": [
              "<Figure size 640x480 with 1 Axes>"
            ],
            "image/png": "[encoded data removed]"
          },
          "metadata": {}
        }
      ]
    },
    {
      "cell_type": "code",
      "source": [
        "x = np.arange(1,numero_epocas+1)\n",
        "plt.plot(x,test_loss)\n",
        "plt.title(\"Test Loss\")\n",
        "plt.ylabel(\"Loss\")\n",
        "plt.xlabel(\"Epoca\")"
      ],
      "metadata": {
        "id": "LWnZJ262RmLT",
        "colab": {
          "base_uri": "https://localhost:8080/",
          "height": 489
        },
        "outputId": "fcb33776-96ce-470a-940f-4a704705ee5e"
      },
      "execution_count": null,
      "outputs": [
        {
          "output_type": "execute_result",
          "data": {
            "text/plain": [
              "Text(0.5, 0, 'Epoca')"
            ]
          },
          "metadata": {},
          "execution_count": 37
        },
        {
          "output_type": "display_data",
          "data": {
            "text/plain": [
              "<Figure size 640x480 with 1 Axes>"
            ],
            "image/png": "[encoded data removed]"
          },
          "metadata": {}
        }
      ]
    },
    {
      "cell_type": "code",
      "source": [
        "#guardamos el array\n",
        "np.savetxt(f'train_loss_{capa_interna}.csv', train_loss)\n",
        "np.savetxt(f'test_loss_{capa_interna}.csv', test_loss)"
      ],
      "metadata": {
        "id": "xPWgrybrHndX"
      },
      "execution_count": null,
      "outputs": []
    },
    {
      "cell_type": "code",
      "source": [],
      "metadata": {
        "id": "gOZx5xbULacg"
      },
      "execution_count": null,
      "outputs": []
    },
    {
      "cell_type": "markdown",
      "source": [
        "Ahora con los errores ya calculados puedo hacer los gráficos aca cargando los datos"
      ],
      "metadata": {
        "id": "nosE7rOIa_15"
      }
    },
    {
      "cell_type": "code",
      "source": [
        "Test_64 = np.loadtxt('test_loss_64.csv')\n",
        "Test_128 = np.loadtxt('test_loss_128.csv')\n",
        "Test_256 = np.loadtxt('test_loss_256.csv')\n",
        "Test_512 = np.loadtxt('test_loss_512.csv')"
      ],
      "metadata": {
        "id": "kR2wVXPLbHNQ",
        "colab": {
          "base_uri": "https://localhost:8080/",
          "height": 363
        },
        "outputId": "bf0b137f-6e8c-41b3-8e45-2fcd75b24759"
      },
      "execution_count": null,
      "outputs": [
        {
          "output_type": "error",
          "ename": "FileNotFoundError",
          "evalue": "ignored",
          "traceback": [
            "\u001b[0;31m---------------------------------------------------------------------------\u001b[0m",
            "\u001b[0;31mFileNotFoundError\u001b[0m                         Traceback (most recent call last)",
            "\u001b[0;32m<ipython-input-39-69725e774741>\u001b[0m in \u001b[0;36m<cell line: 1>\u001b[0;34m()\u001b[0m\n\u001b[0;32m----> 1\u001b[0;31m \u001b[0mTest_64\u001b[0m \u001b[0;34m=\u001b[0m \u001b[0mnp\u001b[0m\u001b[0;34m.\u001b[0m\u001b[0mloadtxt\u001b[0m\u001b[0;34m(\u001b[0m\u001b[0;34m'test_loss_64.csv'\u001b[0m\u001b[0;34m)\u001b[0m\u001b[0;34m\u001b[0m\u001b[0;34m\u001b[0m\u001b[0m\n\u001b[0m\u001b[1;32m      2\u001b[0m \u001b[0mTest_128\u001b[0m \u001b[0;34m=\u001b[0m \u001b[0mnp\u001b[0m\u001b[0;34m.\u001b[0m\u001b[0mloadtxt\u001b[0m\u001b[0;34m(\u001b[0m\u001b[0;34m'test_loss_128.csv'\u001b[0m\u001b[0;34m)\u001b[0m\u001b[0;34m\u001b[0m\u001b[0;34m\u001b[0m\u001b[0m\n\u001b[1;32m      3\u001b[0m \u001b[0mTest_256\u001b[0m \u001b[0;34m=\u001b[0m \u001b[0mnp\u001b[0m\u001b[0;34m.\u001b[0m\u001b[0mloadtxt\u001b[0m\u001b[0;34m(\u001b[0m\u001b[0;34m'test_loss_256.csv'\u001b[0m\u001b[0;34m)\u001b[0m\u001b[0;34m\u001b[0m\u001b[0;34m\u001b[0m\u001b[0m\n\u001b[1;32m      4\u001b[0m \u001b[0mTest_512\u001b[0m \u001b[0;34m=\u001b[0m \u001b[0mnp\u001b[0m\u001b[0;34m.\u001b[0m\u001b[0mloadtxt\u001b[0m\u001b[0;34m(\u001b[0m\u001b[0;34m'test_loss_512.csv'\u001b[0m\u001b[0;34m)\u001b[0m\u001b[0;34m\u001b[0m\u001b[0;34m\u001b[0m\u001b[0m\n",
            "\u001b[0;32m/usr/local/lib/python3.10/dist-packages/numpy/lib/npyio.py\u001b[0m in \u001b[0;36mloadtxt\u001b[0;34m(fname, dtype, comments, delimiter, converters, skiprows, usecols, unpack, ndmin, encoding, max_rows, like)\u001b[0m\n\u001b[1;32m   1040\u001b[0m             \u001b[0mfname\u001b[0m \u001b[0;34m=\u001b[0m \u001b[0mos_fspath\u001b[0m\u001b[0;34m(\u001b[0m\u001b[0mfname\u001b[0m\u001b[0;34m)\u001b[0m\u001b[0;34m\u001b[0m\u001b[0;34m\u001b[0m\u001b[0m\n\u001b[1;32m   1041\u001b[0m         \u001b[0;32mif\u001b[0m \u001b[0m_is_string_like\u001b[0m\u001b[0;34m(\u001b[0m\u001b[0mfname\u001b[0m\u001b[0;34m)\u001b[0m\u001b[0;34m:\u001b[0m\u001b[0;34m\u001b[0m\u001b[0;34m\u001b[0m\u001b[0m\n\u001b[0;32m-> 1042\u001b[0;31m             \u001b[0mfh\u001b[0m \u001b[0;34m=\u001b[0m \u001b[0mnp\u001b[0m\u001b[0;34m.\u001b[0m\u001b[0mlib\u001b[0m\u001b[0;34m.\u001b[0m\u001b[0m_datasource\u001b[0m\u001b[0;34m.\u001b[0m\u001b[0mopen\u001b[0m\u001b[0;34m(\u001b[0m\u001b[0mfname\u001b[0m\u001b[0;34m,\u001b[0m \u001b[0;34m'rt'\u001b[0m\u001b[0;34m,\u001b[0m \u001b[0mencoding\u001b[0m\u001b[0;34m=\u001b[0m\u001b[0mencoding\u001b[0m\u001b[0;34m)\u001b[0m\u001b[0;34m\u001b[0m\u001b[0;34m\u001b[0m\u001b[0m\n\u001b[0m\u001b[1;32m   1043\u001b[0m             \u001b[0mfencoding\u001b[0m \u001b[0;34m=\u001b[0m \u001b[0mgetattr\u001b[0m\u001b[0;34m(\u001b[0m\u001b[0mfh\u001b[0m\u001b[0;34m,\u001b[0m \u001b[0;34m'encoding'\u001b[0m\u001b[0;34m,\u001b[0m \u001b[0;34m'latin1'\u001b[0m\u001b[0;34m)\u001b[0m\u001b[0;34m\u001b[0m\u001b[0;34m\u001b[0m\u001b[0m\n\u001b[1;32m   1044\u001b[0m             \u001b[0mline_iter\u001b[0m \u001b[0;34m=\u001b[0m \u001b[0miter\u001b[0m\u001b[0;34m(\u001b[0m\u001b[0mfh\u001b[0m\u001b[0;34m)\u001b[0m\u001b[0;34m\u001b[0m\u001b[0;34m\u001b[0m\u001b[0m\n",
            "\u001b[0;32m/usr/local/lib/python3.10/dist-packages/numpy/lib/_datasource.py\u001b[0m in \u001b[0;36mopen\u001b[0;34m(path, mode, destpath, encoding, newline)\u001b[0m\n\u001b[1;32m    191\u001b[0m \u001b[0;34m\u001b[0m\u001b[0m\n\u001b[1;32m    192\u001b[0m     \u001b[0mds\u001b[0m \u001b[0;34m=\u001b[0m \u001b[0mDataSource\u001b[0m\u001b[0;34m(\u001b[0m\u001b[0mdestpath\u001b[0m\u001b[0;34m)\u001b[0m\u001b[0;34m\u001b[0m\u001b[0;34m\u001b[0m\u001b[0m\n\u001b[0;32m--> 193\u001b[0;31m     \u001b[0;32mreturn\u001b[0m \u001b[0mds\u001b[0m\u001b[0;34m.\u001b[0m\u001b[0mopen\u001b[0m\u001b[0;34m(\u001b[0m\u001b[0mpath\u001b[0m\u001b[0;34m,\u001b[0m \u001b[0mmode\u001b[0m\u001b[0;34m,\u001b[0m \u001b[0mencoding\u001b[0m\u001b[0;34m=\u001b[0m\u001b[0mencoding\u001b[0m\u001b[0;34m,\u001b[0m \u001b[0mnewline\u001b[0m\u001b[0;34m=\u001b[0m\u001b[0mnewline\u001b[0m\u001b[0;34m)\u001b[0m\u001b[0;34m\u001b[0m\u001b[0;34m\u001b[0m\u001b[0m\n\u001b[0m\u001b[1;32m    194\u001b[0m \u001b[0;34m\u001b[0m\u001b[0m\n\u001b[1;32m    195\u001b[0m \u001b[0;34m\u001b[0m\u001b[0m\n",
            "\u001b[0;32m/usr/local/lib/python3.10/dist-packages/numpy/lib/_datasource.py\u001b[0m in \u001b[0;36mopen\u001b[0;34m(self, path, mode, encoding, newline)\u001b[0m\n\u001b[1;32m    530\u001b[0m                                       encoding=encoding, newline=newline)\n\u001b[1;32m    531\u001b[0m         \u001b[0;32melse\u001b[0m\u001b[0;34m:\u001b[0m\u001b[0;34m\u001b[0m\u001b[0;34m\u001b[0m\u001b[0m\n\u001b[0;32m--> 532\u001b[0;31m             \u001b[0;32mraise\u001b[0m \u001b[0mFileNotFoundError\u001b[0m\u001b[0;34m(\u001b[0m\u001b[0;34mf\"{path} not found.\"\u001b[0m\u001b[0;34m)\u001b[0m\u001b[0;34m\u001b[0m\u001b[0;34m\u001b[0m\u001b[0m\n\u001b[0m\u001b[1;32m    533\u001b[0m \u001b[0;34m\u001b[0m\u001b[0m\n\u001b[1;32m    534\u001b[0m \u001b[0;34m\u001b[0m\u001b[0m\n",
            "\u001b[0;31mFileNotFoundError\u001b[0m: test_loss_64.csv not found."
          ]
        }
      ]
    },
    {
      "cell_type": "code",
      "source": [
        "Train_64 = np.loadtxt('train_loss_64.csv')\n",
        "Train_128 = np.loadtxt('train_loss_128.csv')\n",
        "Train_256 = np.loadtxt('train_loss_256.csv')\n",
        "Train_512 = np.loadtxt('train_loss_512.csv')"
      ],
      "metadata": {
        "id": "iurNG7NWbh94"
      },
      "execution_count": null,
      "outputs": []
    },
    {
      "cell_type": "code",
      "source": [
        "x = np.arange(1,numero_epocas+1)\n",
        "\n",
        "plt.plot(x,Test_64, label='Test 64',linestyle='-', c='red')\n",
        "plt.plot(x,Train_64, label='Train 64', linestyle='--', c='red')\n",
        "plt.plot(x,Test_128, label='Test 128', linestyle='-', c='blue')\n",
        "plt.plot(x,Train_128, label='Train 128', linestyle='--', c='blue')\n",
        "plt.plot(x,Test_256, label='Test 256', linestyle='-', c='green')\n",
        "plt.plot(x,Train_256, label='Train 256', linestyle='--', c='green')\n",
        "plt.plot(x,Test_512, label='Test 512', linestyle='-', c='black')\n",
        "plt.plot(x,Train_512, label='Train 512', linestyle='--', c='black')\n",
        "plt.plot(plotsize=(12, 6))\n",
        "\n",
        "plt.title(\"Comparación de todas las redes\")\n",
        "plt.ylabel(\"Loss\")\n",
        "plt.xlabel(\"Epoca\")\n",
        "plt.legend()\n",
        "plt.savefig(\"Grafico_todos_Errores.png\", dpi =300)\n",
        "plt.show()"
      ],
      "metadata": {
        "id": "_hieFJV7b1XI"
      },
      "execution_count": null,
      "outputs": []
    },
    {
      "cell_type": "code",
      "source": [
        "default_figsize = plt.rcParams[\"figure.figsize\"]\n",
        "print(\"Tamaño por defecto:\", default_figsize)"
      ],
      "metadata": {
        "id": "9S9TXbckc9Hu"
      },
      "execution_count": null,
      "outputs": []
    },
    {
      "cell_type": "code",
      "source": [
        "#x = np.arange(1,numero_epocas+1)\n",
        "#plt.plot(x,Train_64, label='Capa 64')\n",
        "#plt.plot(x,Train_128, label='Capa 128')\n",
        "#plt.plot(x,Train_256, label='Capa 256')\n",
        "#plt.plot(x,Train_512, label='Capa 512')\n",
        "#plt.title(\"Train Loss\")\n",
        "#plt.ylabel(\"Loss\")\n",
        "#plt.xlabel(\"Epoca\")\n",
        "#plt.legend()\n",
        "#plt.savefig(\"Grafico Errores Entrenamiento.png\", dpi =300)\n",
        "#plt.show()"
      ],
      "metadata": {
        "id": "JPl7dvoKcHbU"
      },
      "execution_count": null,
      "outputs": []
    },
    {
      "cell_type": "code",
      "source": [
        "x = np.arange(1,numero_epocas+1)\n",
        "plt.plot(x,Train_64, label='Train', linestyle='-', c='red')\n",
        "plt.plot(x,Test_64, label='Test', linestyle='-.', c='black')\n",
        "plt.title(\"Errores en 50 epocas para 64 neuronas\")\n",
        "plt.ylabel(\"Loss\")\n",
        "plt.xlabel(\"Epoca\")\n",
        "plt.legend()\n",
        "plt.savefig(f\"Grafico_ambos_errores_{capa_interna}.png\", dpi =300)\n",
        "plt.show()"
      ],
      "metadata": {
        "id": "OLwz-IzcdF4W"
      },
      "execution_count": null,
      "outputs": []
    },
    {
      "cell_type": "code",
      "source": [
        "# Cargamos el modelo del cual queremos crear las imagenes:\n",
        "#Enc = Encoder().to(device)\n",
        "#Dec = Decoder().to(device)\n",
        "#Enc = (torch.load(\"Encoder_512.pth\"))\n",
        "#Dec = (torch.load(\"Decoder_512.pth\"))\n",
        "#Enc = Encoder().to(device)\n",
        "#Dec = Decoder().to(device)\n",
        "\n",
        "#Encoder, f\"Encoder_{capa_interna}.pth\""
      ],
      "metadata": {
        "id": "Iud3xeb7g_r0"
      },
      "execution_count": null,
      "outputs": []
    },
    {
      "cell_type": "code",
      "source": [
        "# Miramos que imagenes predice el modelo sin entrenar\n",
        "# 4.b)\n",
        "figure = plt.figure()\n",
        "rows,cols = 3,2\n",
        "i = 0 # subplot index\n",
        "for row in range(1,rows+1):\n",
        "    j = torch.randint(len(train_dataset),size=(1,)).item() # Los números aleatorios tambien se pueden generar desde pytorch. Util para trabajar en la GPU.\n",
        "    # Ploteamos la imagen original\n",
        "    i += 1\n",
        "    image,flatten_imagen = train_dataset[j]\n",
        "    figure.add_subplot(rows,cols,i)\n",
        "    if row==1:\n",
        "      plt.title(\"original\")\n",
        "    plt.axis(\"off\")\n",
        "    plt.imshow(image.squeeze(),cmap=\"Greys_r\")\n",
        "    # Ploteamos la imagen predicha\n",
        "    i += 1\n",
        "    figure.add_subplot(rows,cols,i)\n",
        "    if row==1:\n",
        "      plt.title(\"predicha\")\n",
        "    plt.axis(\"off\")\n",
        "    #image_pred = model.imagen(image)\n",
        "    #Acá mando la imagen al dispositivo en el cual estoy trabajando.\n",
        "    # le mandamos un flatten\n",
        "    image = image.flatten(1)\n",
        "    image_gpu = image.to(device)\n",
        "    pred_gpu = Dec(Enc(image_gpu))\n",
        "    pred_cpu = pred_gpu.detach().cpu().numpy().reshape((1,28,28)).squeeze()\n",
        "    plt.imshow(pred_cpu,cmap=\"Greys_r\")\n",
        "#plt.show()\n",
        "plt.savefig(f'Comparativa_{capa_interna}_neuronas')"
      ],
      "metadata": {
        "id": "bQVFsjSdL42p"
      },
      "execution_count": null,
      "outputs": []
    },
    {
      "cell_type": "code",
      "source": [],
      "metadata": {
        "id": "S2utIEQNE-Z2"
      },
      "execution_count": null,
      "outputs": []
    }
  ]
}